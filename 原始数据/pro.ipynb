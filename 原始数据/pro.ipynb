{
 "cells": [
  {
   "cell_type": "markdown",
   "metadata": {},
   "source": [
    "笔记\n",
    "\n",
    "1. 哈尔滨流量数据缺少2022年6月26-28日的数据。"
   ]
  },
  {
   "cell_type": "code",
   "execution_count": 2,
   "metadata": {},
   "outputs": [],
   "source": [
    "import pandas as pd"
   ]
  },
  {
   "cell_type": "code",
   "execution_count": null,
   "metadata": {},
   "outputs": [],
   "source": [
    "\n",
    "file_path = './百度客流指数-三亚及哈尔滨.csv'\n",
    "\n",
    "df = pd.read_csv(file_path, encoding='gbk')\n",
    "\n",
    "df.to_csv('../flow.csv', encoding='utf-8-sig', index=False)"
   ]
  },
  {
   "cell_type": "code",
   "execution_count": null,
   "metadata": {},
   "outputs": [],
   "source": [
    "# 先捏造一些数据\n",
    "# 逗号分隔符，utf-8-sig编码\n",
    "import random\n",
    "\n",
    "with open('fake_data.csv', 'w', encoding='utf-8-sig') as f:\n",
    "    f.write('date,日期,客流\\n')\n",
    "    date = 32\n",
    "\n",
    "    # 特殊处理一下前几天，因为后期要计算滑动窗口\n",
    "    for i in range(22, 32):\n",
    "        k = random.randint(1, 100)\n",
    "        f.write(f'{date-32+i},2023-10-{i},{k+random.randrange(0,i)*k}\\n')\n",
    "\n",
    "    for i in range(1, 31):\n",
    "        k = random.randint(1, 100)\n",
    "        f.write(f'{date},2023-11-{i},{k+random.randrange(0,i)*k}\\n')\n",
    "        date += 1\n",
    "\n",
    "    for i in range(1, 32):\n",
    "        k = random.randint(1, 100)\n",
    "        f.write(f'{date},2023-12-{i},{k+random.randrange(0,i)*k}\\n')\n",
    "        date += 1\n",
    "\n",
    "    for i in range(1, 32):\n",
    "        k = random.randint(1, 100)\n",
    "        f.write(f'{date},2024-01-{i},{k+random.randrange(0,i)*k}\\n')\n",
    "        date += 1\n",
    "    \n",
    "    for i in range(1, 30):\n",
    "        k = random.randint(1, 100)\n",
    "        f.write(f'{date},2024-02-{i},{k+random.randrange(0,i)*k}\\n')\n",
    "        date += 1\n",
    "\n",
    "    for i in range(1, 32):\n",
    "        k = random.randint(1, 100)\n",
    "        f.write(f'{date},2024-03-{i},{k+random.randrange(0,i)*k}\\n')\n",
    "        date += 1\n",
    "    \n",
    "    for i in range(1, 31):\n",
    "        k = random.randint(1, 100)\n",
    "        f.write(f'{date},2024-04-{i},{k+random.randrange(0,i)*k}\\n')\n",
    "        date += 1"
   ]
  },
  {
   "cell_type": "code",
   "execution_count": 8,
   "metadata": {},
   "outputs": [],
   "source": [
    "# 日期数据\n",
    "\n",
    "# 从2022年1月1日开始，到2024年4月30日结束，进行从1开始的编号，并且记录星期几\n",
    "with open('date.csv', 'w', encoding='utf-8-sig') as f:\n",
    "    f.write('date,日期,星期\\n')\n",
    "    date = 1\n",
    "    for year in range(2022, 2025):\n",
    "        for month in range(1, 13):\n",
    "            for day in range(1, 32):\n",
    "                if month == 2 and day > 28 and year!= 2024:\n",
    "                    break\n",
    "                if month == 2 and day > 29 and year == 2024:\n",
    "                    break\n",
    "                if month in [4, 6, 9, 11] and day > 30:\n",
    "                    break\n",
    "                if year == 2024 and month >= 5:\n",
    "                    break \n",
    "                f.write(f'{date},{year}-{month:02d}-{day:02d},{(date+4)%7+1}\\n')\n",
    "                date += 1\n",
    "    \n",
    "# 将日期数据改成日期格式\n",
    "df = pd.read_csv('date.csv', encoding='utf-8-sig')\n",
    "\n",
    "df.to_csv('date.csv', encoding='utf-8-sig', index=False)\n",
    "    "
   ]
  },
  {
   "cell_type": "code",
   "execution_count": 15,
   "metadata": {},
   "outputs": [],
   "source": [
    "# 百度xlsx导出为csv\n",
    "xl = pd.read_excel('baidu.xlsx', sheet_name=None)\n",
    "for sheet in xl:\n",
    "    xl[sheet].to_csv(f'../baidu.csv', encoding='utf-8-sig', index=False)\n"
   ]
  },
  {
   "cell_type": "code",
   "execution_count": 5,
   "metadata": {},
   "outputs": [],
   "source": [
    "# 哈尔滨数据整理\n",
    "\n",
    "df = pd.read_csv('./百度指数- 哈尔滨相关词-天 (日均).csv', encoding='gbk')  \n",
    "\n",
    "df = df[df['日期'] <= 20240430] # 2024年4月30日之前的数据\n",
    "\n",
    "df.to_csv('./harbin_test.csv', encoding='utf-8-sig', index=False)\n",
    "\n",
    "\n",
    "# 接下来请手工调整"
   ]
  }
 ],
 "metadata": {
  "kernelspec": {
   "display_name": "hrb",
   "language": "python",
   "name": "python3"
  },
  "language_info": {
   "codemirror_mode": {
    "name": "ipython",
    "version": 3
   },
   "file_extension": ".py",
   "mimetype": "text/x-python",
   "name": "python",
   "nbconvert_exporter": "python",
   "pygments_lexer": "ipython3",
   "version": "3.12.3"
  }
 },
 "nbformat": 4,
 "nbformat_minor": 2
}
